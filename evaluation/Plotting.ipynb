{
 "cells": [
  {
   "cell_type": "code",
   "execution_count": 1,
   "metadata": {},
   "outputs": [],
   "source": [
    "import pandas as pd\n",
    "import plotnine as p9\n",
    "import numpy as np\n",
    "import matplotlib\n",
    "matplotlib.use(\"pgf\")\n",
    "matplotlib.rcParams.update({\n",
    "    \"pgf.texsystem\": \"pdflatex\",\n",
    "    'font.family': 'sans-serif',\n",
    "    'text.usetex': True,\n",
    "    'pgf.rcfonts': False,\n",
    "})\n",
    "df = pd.read_csv(\"microbenchmark.csv\")\n",
    "base_theme = (p9.theme_classic(base_size=14, base_family='sans-serif')\n",
    "              + p9.theme(axis_text_y=p9.element_text(margin={'r': 5}),\n",
    "                         legend_box_spacing=0.01,\n",
    "                         legend_box_margin=0,\n",
    "                         legend_margin=0,\n",
    "                         legend_position='top',\n",
    "                         figure_size=(10,5),\n",
    "                         text=p9.element_text(size=14)))"
   ]
  },
  {
   "cell_type": "code",
   "execution_count": 2,
   "metadata": {},
   "outputs": [],
   "source": [
    "def scheme(mode, *colors):\n",
    "    colordef = {'lred': '#fab7b7', \n",
    "                'dred': '#d45079',\n",
    "                'dblue': '#6886c5', \n",
    "                'lblue': '#b0deff', \n",
    "                'dorange': '#f5b971',\n",
    "                'lorange': '#f6d186',\n",
    "                'dpurp': '#a6b1e1',\n",
    "                'yellow': '#fcf876',\n",
    "                'lpurp': '#dcd6f7',\n",
    "                'lgreen': '#a8e6cf',\n",
    "                'blackish': '#39375b',\n",
    "                'seafoam': '#a0ffe6'}\n",
    "    scfun = p9.scale_fill_manual if mode == 'fill' else p9.scale_color_manual\n",
    "    if bool(colors):\n",
    "        return scfun([(colordef[x] if x in colordef else x) for x in colors])\n",
    "    else:\n",
    "        return scfun(list(colordef.values()))"
   ]
  },
  {
   "cell_type": "code",
   "execution_count": 3,
   "metadata": {},
   "outputs": [],
   "source": [
    "def cycles_for(df, op):\n",
    "    return (df[df.operation == op]\n",
    "            .groupby(['fs', 'size'])\n",
    "            .median().apply(np.ceil)\n",
    "            .cycles.reset_index(name=\"cycles\"))"
   ]
  },
  {
   "cell_type": "code",
   "execution_count": 4,
   "metadata": {},
   "outputs": [],
   "source": [
    "import warnings\n",
    "warnings.filterwarnings('ignore')"
   ]
  },
  {
   "cell_type": "code",
   "execution_count": 12,
   "metadata": {},
   "outputs": [],
   "source": [
    "(p9.ggplot(df.pipe(cycles_for, 'read')) \n",
    " + p9.aes(x='size', y='cycles', color='fs') \n",
    " + p9.geom_line(size=1, alpha=0.7)\n",
    " + p9.geom_point()\n",
    " + base_theme\n",
    " + scheme('color', 'dblue', 'dred')\n",
    " + p9.theme(figure_size=(10,5))\n",
    " + p9.labs(x='Size (Bytes)', y='CPU cycles', color='Implementation')).save(\"plots/read.png\", dpi=300)"
   ]
  },
  {
   "cell_type": "code",
   "execution_count": 11,
   "metadata": {},
   "outputs": [],
   "source": [
    "(p9.ggplot(df.pipe(cycles_for, 'write')) \n",
    " + p9.aes(x='size', y='cycles', color='fs') \n",
    " + p9.geom_line(size=1, alpha=0.7)\n",
    " + p9.geom_point()\n",
    " + base_theme\n",
    " + scheme('color', 'dblue', 'dred')\n",
    " + p9.theme(figure_size=(10,5))\n",
    " + p9.labs(x='Size (Bytes)', y='CPU cycles', color='Implementation')).save(\"plots/write.png\", dpi=300)"
   ]
  },
  {
   "cell_type": "code",
   "execution_count": 7,
   "metadata": {},
   "outputs": [],
   "source": [
    "for idx, row in df.groupby(['fs', 'operation', 'size']).median().apply(np.ceil).cycles.reset_index(name='cycles').iterrows():\n",
    "    if row['size'] < 0:\n",
    "        fname = f\"stats/{row.fs}-{row.operation}.tex\"\n",
    "    else:\n",
    "        fname = f'stats/{row.fs}-{row.operation}-{row[\"size\"]}.tex'\n",
    "        \n",
    "    with open(fname, \"w\") as f:\n",
    "        f.write(str(int(row.cycles)))\n"
   ]
  },
  {
   "cell_type": "code",
   "execution_count": 10,
   "metadata": {},
   "outputs": [],
   "source": [
    "medians = df.groupby(['fs', 'operation', 'size']).median().apply(np.ceil).cycles.reset_index(name='cycles')\n",
    "pd.DataFrame({'fs': medians.fs,\n",
    "              'op': medians.apply(lambda x: x.operation if x['size'] < 0 else ' '.join([x.operation, str(x['size'])]), axis='columns'),\n",
    "              'cycles': medians.cycles.map(int)}).pivot(index='fs', columns='op', values='cycles').to_latex(\"test.tex\")"
   ]
  }
 ],
 "metadata": {
  "kernelspec": {
   "display_name": "Python 3",
   "language": "python",
   "name": "python3"
  },
  "language_info": {
   "codemirror_mode": {
    "name": "ipython",
    "version": 3
   },
   "file_extension": ".py",
   "mimetype": "text/x-python",
   "name": "python",
   "nbconvert_exporter": "python",
   "pygments_lexer": "ipython3",
   "version": "3.7.8"
  }
 },
 "nbformat": 4,
 "nbformat_minor": 4
}
